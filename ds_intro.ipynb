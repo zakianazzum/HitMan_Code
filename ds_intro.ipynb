{
 "cells": [
  {
   "cell_type": "markdown",
   "metadata": {},
   "source": [
    "# STACK "
   ]
  },
  {
   "cell_type": "code",
   "execution_count": 2,
   "metadata": {},
   "outputs": [
    {
     "name": "stdout",
     "output_type": "stream",
     "text": [
      "True\n"
     ]
    }
   ],
   "source": [
    "def check_parentheses(expression): #This line defines a function named check_parentheses \n",
    "    #that takes one argument, expression, which is a string representing a sequence of parentheses.\n",
    "    stack = []  #This line creates an empty list stack which we will \n",
    "    #use to keep track of the parentheses as we process the expression.\n",
    "    for char in expression: #This line starts a for loop that iterates over each character \n",
    "        #in the expression string.\n",
    "        if char == '(': #This line checks if the current character is an opening parenthesis (.\n",
    "            #If it is, we append it to the stack list.\n",
    "            stack.append(char)\n",
    "        elif char == ')': #This line checks if the current character is a closing parenthesis ).\n",
    "            if not stack: #If the current character is a closing parenthesis ) and the \n",
    "                #stack is empty, it means that there is no matching opening parenthesis, so we return False.\n",
    "                return False\n",
    "            stack.pop()#If the current character is a closing parenthesis ) and \n",
    "            #the stack is not empty, we pop the last element from the stack to remove the corresponding opening parenthesis.\n",
    "    return not stack\n",
    "\n",
    "expression = str(input(\"Enter for checking parentheses: \"))\n",
    "\n",
    "result = check_parentheses(expression)\n",
    "print(result)\n",
    "\n"
   ]
  },
  {
   "attachments": {},
   "cell_type": "markdown",
   "metadata": {},
   "source": [
    " After processing all characters in the expression, if the stack is empty, it means that all opening parentheses have been matched with closing parentheses, so we return True by negating the value of stack (i.e. not stack). If the stack is not empty, it means there are unmatched opening parentheses, so we return False."
   ]
  },
  {
   "attachments": {},
   "cell_type": "markdown",
   "metadata": {},
   "source": [
    "# Stack Data structure :\n",
    "This is a Python implementation of a stack data structure. The class Stack has four methods:\n",
    "\n",
    "__init__: This method is called when an instance of the class is created. It initializes an empty list data which will be used to store the values in the stack.\n",
    "\n",
    "push: This method takes one argument, val, which is the value to be pushed onto the stack. It appends val to the data list.\n",
    "\n",
    "pop: This method removes the top element from the stack. It pops the last value from the data list.\n",
    "\n",
    "top: This method returns the top value from the stack without removing it. It returns the last value of the data list.\n",
    "\n",
    "isEmpty: This method returns True if the stack is empty, and False otherwise. It returns the result of checking if the length of the data list is equal to 0.\n",
    "\n",
    "\n",
    "\n"
   ]
  },
  {
   "cell_type": "code",
   "execution_count": 6,
   "metadata": {},
   "outputs": [
    {
     "name": "stdout",
     "output_type": "stream",
     "text": [
      "after push [10]\n",
      "after push [10, 30]\n",
      "after push [10, 30, 90]\n",
      "after push [10, 30, 90, 59]\n",
      "after push [10, 30, 90, 59, 60]\n"
     ]
    },
    {
     "data": {
      "text/plain": [
       "<bound method Stack.pop of <__main__.Stack object at 0x7f10901b0220>>"
      ]
     },
     "execution_count": 6,
     "metadata": {},
     "output_type": "execute_result"
    }
   ],
   "source": [
    "class Stack:\n",
    "    def __init__(self):\n",
    "        self.data = []\n",
    "\n",
    "    def push(self,val):\n",
    "        \n",
    "        self.data.append(val)\n",
    "        print(\"after push %s\" %(self.data))\n",
    "\n",
    "    def pop (self):\n",
    "        self.data.pop()\n",
    "        print(\"after pop %s\" %(self.data))\n",
    "\n",
    "    def top(self):\n",
    "        return self.data[-1]\n",
    "    \n",
    "    def isEmpty(self):\n",
    "        return len(self.data)==0    \n",
    "\n",
    "s = Stack()\n",
    "\n",
    "s.push(10)\n",
    "s.push(30)\n",
    "s.push(90)\n",
    "s.pop\n",
    "s.push(59)\n",
    "s.pop\n",
    "s.pop\n",
    "s.push(60)\n",
    "s.pop\n",
    "s.pop\n"
   ]
  },
  {
   "cell_type": "code",
   "execution_count": null,
   "metadata": {},
   "outputs": [],
   "source": [
    "def check_parentheses(expression):\n",
    "    stack = Stack()\n",
    "    for char in expression:\n",
    "        if char == '(':\n",
    "            stack.push(char)\n",
    "        elif char == ')':\n",
    "            if stack.isEmpty():\n",
    "                return False\n",
    "            stack.pop()\n",
    "    return stack.isEmpty()\n",
    "\n",
    "expression = \"(())\"\n",
    "result = check_parentheses(expression)\n",
    "print(result) # True\n",
    "\n",
    "expression = \"())\"\n",
    "result = check_parentheses(expression)\n",
    "print(result) # False\n"
   ]
  },
  {
   "cell_type": "code",
   "execution_count": 7,
   "metadata": {},
   "outputs": [
    {
     "data": {
      "text/plain": [
       "True"
      ]
     },
     "execution_count": 7,
     "metadata": {},
     "output_type": "execute_result"
    }
   ],
   "source": [
    "def matching_brackets(): \n",
    "    brackets = str(input(\"Enter for matching brackets: \"))\n",
    "    stack = []  \n",
    "    for char in brackets: \n",
    "        \n",
    "        if char == '(' : \n",
    "            \n",
    "            stack.append(char)\n",
    "        elif char == ')' : \n",
    "            if not stack:  \n",
    "                \n",
    "                return False\n",
    "            stack.pop()\n",
    "            \n",
    "    return not stack\n",
    "    \n",
    "matching_brackets()\n"
   ]
  },
  {
   "cell_type": "code",
   "execution_count": 8,
   "metadata": {},
   "outputs": [
    {
     "data": {
      "text/plain": [
       "False"
      ]
     },
     "execution_count": 8,
     "metadata": {},
     "output_type": "execute_result"
    }
   ],
   "source": [
    "def matching_brackets(): \n",
    "    brackets = str(input(\"Enter for matching brackets: \"))\n",
    "    stack = []  \n",
    "    for char in brackets: \n",
    "        \n",
    "        if char == '(' or char == '{' or char == '[': \n",
    "            \n",
    "            stack.append(char)\n",
    "        elif char == ')' or char == '}' or char == ']': \n",
    "            if not stack:  \n",
    "                \n",
    "                print(\"NO\") \n",
    "            stack.pop()\n",
    "            \n",
    "    return not stack\n",
    "    \n",
    "matching_brackets()\n"
   ]
  },
  {
   "cell_type": "code",
   "execution_count": 10,
   "metadata": {},
   "outputs": [
    {
     "name": "stdout",
     "output_type": "stream",
     "text": [
      "Yes\n"
     ]
    }
   ],
   "source": [
    "def matching_brackets(): \n",
    "    brackets = str(input(\"Enter for matching brackets: \"))\n",
    "    if len(brackets) > 25:\n",
    "        return \"Invalid input\"\n",
    "    stack = []  \n",
    "    for char in brackets: \n",
    "        if char == '(' or char == '{' or char == '[': \n",
    "            stack.append(char)\n",
    "        elif char == ')' or char == '}' or char == ']': \n",
    "            if not stack:  \n",
    "                return \"No\"\n",
    "            stack.pop()\n",
    "    return \"Yes\" if not stack else \"No\"\n",
    "result = matching_brackets()\n",
    "if result == \"Yes\":\n",
    "    print(\"Yes\")\n",
    "else:\n",
    "    print(\"No\")\n"
   ]
  },
  {
   "cell_type": "code",
   "execution_count": 17,
   "metadata": {},
   "outputs": [
    {
     "name": "stdout",
     "output_type": "stream",
     "text": [
      "Yes\n"
     ]
    }
   ],
   "source": [
    "def matching_brackets(brackets): \n",
    "    #brackets = str(input(\"Enter for matching brackets: \"))\n",
    "    if len(brackets) > 25:\n",
    "        return \"Invalid input\"\n",
    "    stack = []  \n",
    "    for char in brackets: \n",
    "        if char == '(': \n",
    "            stack.append(char)\n",
    "        elif char == ')': \n",
    "            if not stack:  \n",
    "                print(\"No\")\n",
    "            stack.pop()\n",
    "    print (\"Yes\") if not stack else print(\"No\")\n",
    "matching_brackets(brackets)\n",
    "# result = matching_brackets()\n",
    "# if result == \"Yes\":\n",
    "#     print(\"Yes\")\n",
    "# else:\n",
    "#     print(\"No\")"
   ]
  },
  {
   "cell_type": "code",
   "execution_count": 21,
   "metadata": {},
   "outputs": [
    {
     "name": "stdout",
     "output_type": "stream",
     "text": [
      "Yes\n"
     ]
    }
   ],
   "source": [
    "def Matching_Brackets(brackets):\n",
    "    if len(brackets) > 25:\n",
    "        return \"Invalid input\" # print(\"Invalid Input\")\n",
    "    stack = []\n",
    "    for char in brackets: \n",
    "        if char == '(' or char == '{' or char == '[': \n",
    "            stack.append(char)\n",
    "        elif char == ')' or char == '}' or char == ']':\n",
    "            if not stack:\n",
    "                return \"No\"\n",
    "            sequence = stack.pop()\n",
    "            if (sequence == '(' and char != ')') or (sequence == '{' and char != '}') or (sequence == '[' and char != ']'):\n",
    "               \n",
    "                return \"No\" \n",
    "    return \"Yes\" if not stack else \"No\"\n",
    "\n",
    "\n",
    "brackets = input().strip() \n",
    "solution = Matching_Brackets(brackets)\n",
    "print(solution)\n"
   ]
  },
  {
   "attachments": {},
   "cell_type": "markdown",
   "metadata": {},
   "source": [
    "def Matching_Brackets(brackets):\n",
    "\n",
    "    if len(brackets) > 25:\n",
    "        return \"Invalid input\" # print(\"Invalid Input\")\n",
    "\n",
    "This function, named Matching_Brackets, takes a string brackets as input. If the length of the input string is greater than 25, the function returns the string \"Invalid input\" to indicate that the input is too long. Otherwise, the function continues.\n",
    "\n",
    "\n",
    "    stack = []\n",
    "\n",
    "    for char in brackets: \n",
    "\n",
    "        if char == '(' or char == '{' or char == '[': \n",
    "            stack.append(char)\n",
    "\n",
    "        elif char == ')' or char == '}' or char == ']':\n",
    "            if not stack:\n",
    "\n",
    "                return \"No\"\n",
    "\n",
    "            sequence = stack.pop()\n",
    "\n",
    "            if (sequence == '(' and char != ')') or (sequence == '{' and char != '}') or (sequence == '[' and char != ']'):\n",
    "\n",
    "                return \"No\"\n",
    "\n",
    "This loop processes each character in the input string. If the character is an opening bracket ((, {, or [), the character is pushed onto a stack using the append() method. If the character is a closing bracket (), }, or ]), the function checks if the stack is empty using the not keyword. If the stack is empty, there is no matching opening bracket for the closing bracket, so the function returns \"No\" to indicate that the input sequence is invalid.\n",
    "\n",
    "\n",
    "\n",
    "If the stack is not empty, the top element of the stack is popped using the pop() method and assigned to a variable sequence. The function then checks if sequence matches the opening bracket that matches the closing bracket char using a series of if statements with logical OR (or) operators. If there is no match, the input sequence is invalid, and the function returns \"No\".\n",
    "\n",
    "\n",
    "    return \"Yes\" if not stack else \"No\"\n",
    "\n",
    "    \n",
    "Finally, after processing all the characters in the input string, the function checks if the stack is empty. If the stack is empty, all opening brackets in the input sequence have been matched with a closing bracket, so the function returns \"Yes\" to indicate that the input sequence is valid. Otherwise, the function returns \"No\" to indicate that the input sequence is invalid."
   ]
  },
  {
   "attachments": {},
   "cell_type": "markdown",
   "metadata": {},
   "source": [
    "# Anagram :"
   ]
  },
  {
   "cell_type": "code",
   "execution_count": 5,
   "metadata": {},
   "outputs": [
    {
     "name": "stdout",
     "output_type": "stream",
     "text": [
      "Yes\n"
     ]
    }
   ],
   "source": [
    "def is_anagram(s1,s2):\n",
    "    s1 = s1.replace(' ', '').lower()\n",
    "    s2 = s2.replace(' ', '').lower()\n",
    "\n",
    "    if len(s1) != len(s2):\n",
    "        return \"No\"\n",
    "    \n",
    "    count = {}\n",
    "\n",
    "    for letter in s1 :\n",
    "        if letter in count:\n",
    "            count[letter] += 1\n",
    "        else:\n",
    "            count[letter] = 1\n",
    "\n",
    "    for letter in s2:\n",
    "        if letter in count: \n",
    "            count[letter] -= 1\n",
    "        else:\n",
    "            count[letter] = 1 \n",
    "\n",
    "    for j in count:\n",
    "        if count[j]!= 0:\n",
    "            return \"NO\"\n",
    "    \n",
    "    return \"Yes\"\n",
    "\n",
    "s1 = input().strip() \n",
    "s2 = input().strip() \n",
    "solution = is_anagram(s1,s2)\n",
    "print(solution)\n",
    "                 "
   ]
  },
  {
   "cell_type": "markdown",
   "metadata": {},
   "source": [
    "# Mixed Fraction :"
   ]
  },
  {
   "cell_type": "code",
   "execution_count": 13,
   "metadata": {},
   "outputs": [
    {
     "name": "stdout",
     "output_type": "stream",
     "text": [
      "1 4/5\n"
     ]
    }
   ],
   "source": [
    "def mixed_fraction(int1, int2): #This line defines a function called mixed_fraction which takes two integer arguments\n",
    "\n",
    "#This line checks whether the second integer input (int2) is zero or not. If it is zero, the function raises a ZeroDivisionError with the error \n",
    "# message  \"integer division or modulo by zero\". This is because dividing by zero is undefined and raises an error.\n",
    "    if int2 == 0:\n",
    "        raise ZeroDivisionError('Undefined, cannot divide by zero')\n",
    "#These two lines handle negative numbers by determining if either int1 or int2 is negative (but not both). If this is the case, the result will \n",
    "# be negative. The two input integers are then converted to their absolute values using the abs() function, so that we can work with positive n\n",
    "# umbers only.\n",
    "    negative = (int1 < 0) != (int2 < 0)\n",
    "    int1, int2 = abs(int1), abs(int2)\n",
    "\n",
    "#This line uses the built-in divmod() function to perform integer division and modulus operation at the same time. It calculates the quotient \n",
    "# and remainder of int1 divided by int2.    \n",
    "\n",
    "    quotient, remainder = divmod(int1, int2)\n",
    "\n",
    "#These lines format the mixed fraction based on the quotient and remainder calculated in the previous line. If the quotient is zero, it means \n",
    "# the result is a proper fraction, so we just return the remainder and denominator with a slash in between. If the remainder is zero, it means \n",
    "# the result is an integer, so we just return the quotient as a string. Otherwise, we return the quotient, remainder, and denominator with s\n",
    "# paces and slashes in between.\n",
    "    if quotient == 0:\n",
    "        result = str(remainder) + '/' + str(int2)\n",
    "    elif remainder == 0:\n",
    "        result = str(quotient)\n",
    "    else:\n",
    "        result = str(quotient) + ' ' + str(remainder) + '/' + str(int2)\n",
    "\n",
    "#This line handles negative numbers by adding a minus sign in front of the result if the result is negative.        \n",
    "    if negative:\n",
    "        result = '-' + result\n",
    "\n",
    "#This line returns the result of the function, which can be a proper fraction, an integer, or a mixed fraction, \n",
    "# as well as negative or positive.        \n",
    "    return result\n",
    "\n",
    "int1, int2 = map(int, input().strip().split())\n",
    "print(mixed_fraction(int1, int2))\n",
    "\n",
    "\n"
   ]
  },
  {
   "cell_type": "markdown",
   "metadata": {},
   "source": [
    "# Black or white :"
   ]
  },
  {
   "cell_type": "code",
   "execution_count": 19,
   "metadata": {},
   "outputs": [
    {
     "name": "stdout",
     "output_type": "stream",
     "text": [
      "Black\n"
     ]
    }
   ],
   "source": [
    "def blackOrWhite(x,y):\n",
    "  \n",
    "  if x % 2 == 0:\n",
    "    if y % 2 == 0:\n",
    "      return 'Black'\n",
    "    else:\n",
    "       return 'white'\n",
    "  else:\n",
    "    if y%2 == 0:\n",
    "      return 'White'\n",
    "    else:\n",
    "      return 'Black'\n",
    "\n",
    "x,y = map(int, input().strip().split())\n",
    "print (blackOrWhite(x,y))"
   ]
  },
  {
   "cell_type": "code",
   "execution_count": 16,
   "metadata": {},
   "outputs": [
    {
     "name": "stdout",
     "output_type": "stream",
     "text": [
      "White\n"
     ]
    }
   ],
   "source": [
    "def blackOrWhite(x,y):\n",
    "    # Calculate the sum of the coordinates\n",
    "    sum = x + y\n",
    "\n",
    "    # Check if the sum is even or odd to determine the color of the cell\n",
    "    if sum % 2 == 0:\n",
    "        return 'Black'\n",
    "    else:\n",
    "        return 'White'\n",
    "\n",
    "# Take input from the user as two integers separated by a space\n",
    "x, y = map(int, input().strip().split())\n",
    "\n",
    "# Call the function and print the output\n",
    "print(blackOrWhite(x, y))"
   ]
  }
 ],
 "metadata": {
  "kernelspec": {
   "display_name": "Python 3",
   "language": "python",
   "name": "python3"
  },
  "language_info": {
   "codemirror_mode": {
    "name": "ipython",
    "version": 3
   },
   "file_extension": ".py",
   "mimetype": "text/x-python",
   "name": "python",
   "nbconvert_exporter": "python",
   "pygments_lexer": "ipython3",
   "version": "3.10.9"
  },
  "orig_nbformat": 4,
  "vscode": {
   "interpreter": {
    "hash": "dbb44e1b368d95f13ac415d12ca1fa91e4d4022d3e348bc39e16a736da6a2bbf"
   }
  }
 },
 "nbformat": 4,
 "nbformat_minor": 2
}
