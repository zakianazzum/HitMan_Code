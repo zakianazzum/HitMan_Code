{
 "cells": [
  {
   "cell_type": "code",
   "execution_count": 6,
   "metadata": {},
   "outputs": [
    {
     "name": "stdout",
     "output_type": "stream",
     "text": [
      "    \n",
      "    #\n",
      "    ##\n",
      "    ###\n",
      "    ####\n"
     ]
    }
   ],
   "source": [
    "def triangle(num,char):\n",
    "\n",
    "    count = 0 \n",
    "\n",
    "    while count < num:\n",
    "        print (\" \" * (num - 1) + char * count )\n",
    "        count+=1\n",
    "\n",
    "num = int(input(\"Enter the size of the triangle: \"))\n",
    "char = input(\"Enter your desire character: \")    \n",
    "\n",
    "triangle(num,char)\n"
   ]
  },
  {
   "attachments": {},
   "cell_type": "markdown",
   "metadata": {},
   "source": [
    "#"
   ]
  },
  {
   "attachments": {},
   "cell_type": "markdown",
   "metadata": {},
   "source": [
    " The line triangle_printer = lambda x, c: print(\" \" * (num - 1) + c * x ) defines a lambda function (also called an anonymous function) named triangle_printer. A lambda function is a small, inline function that can be used to simplify coding and make your code more concise.\n",
    "\n",
    "The lambda keyword is followed by two parameters, x and c, separated by a comma. The x parameter represents the number of repetitions of the char (c) character to print in each row of the triangle. The : symbol marks the end of the lambda's parameter list and the start of its function body, which consists of a single line: print(\" \" * (num - 1) + c * x ).\n",
    "\n",
    "The print statement inside the lambda function prints a string consisting of:\n",
    "\n",
    "\" \" * (num - 1): A number of spaces equal to num - 1. The num variable is the size of the triangle, so this line creates a left-aligned triangle by printing num - 1 spaces in front of the characters.\n",
    "\n",
    "\n",
    "c * x: The char character repeated x times. The x parameter represents the number of repetitions of the char character to print in each row of the triangle.\n",
    "The lambda function triangle_printer takes two arguments x and c, and it prints a string consisting of spaces followed by repetitions of the char character. The triangle function uses the triangle_printer lambda to print a triangle of characters of a specified size and with a specified character.\n",
    "\n",
    "\n",
    "\n",
    "\n"
   ]
  },
  {
   "attachments": {},
   "cell_type": "markdown",
   "metadata": {},
   "source": [
    "# 1. Printing Triangle : "
   ]
  },
  {
   "cell_type": "code",
   "execution_count": 11,
   "metadata": {},
   "outputs": [
    {
     "name": "stdout",
     "output_type": "stream",
     "text": [
      "    \n",
      "    *\n",
      "    **\n",
      "    ***\n",
      "    ****\n",
      "    *****\n"
     ]
    }
   ],
   "source": [
    "def triangle():\n",
    "    num = int(input(\"Enter the size of the triangle: \"))\n",
    "    char = input(\"Enter your desired character: \")\n",
    "\n",
    "    triangle_printer = lambda x, c: print(\" \" * (num - 1) + c * x )\n",
    "\n",
    "    for count in range(num+1):\n",
    "        triangle_printer(count, char)\n",
    "triangle ()"
   ]
  },
  {
   "attachments": {},
   "cell_type": "markdown",
   "metadata": {},
   "source": [
    "# Problem 2: Volumn of the Sphere"
   ]
  },
  {
   "cell_type": "code",
   "execution_count": 7,
   "metadata": {},
   "outputs": [
    {
     "name": "stdout",
     "output_type": "stream",
     "text": [
      "The volume of the sphere is:  214708.223\n"
     ]
    }
   ],
   "source": [
    "def vol_sp():\n",
    "\n",
    "    import math\n",
    "    \n",
    "    radius = int(input(\"Enter the radius: \"))\n",
    "    volume = (3/4)* (math.pi)*radius**3\n",
    "    print(\"The volume of the sphere is: \", round(volume,3))\n",
    "\n",
    "\n",
    "vol_sp()"
   ]
  },
  {
   "cell_type": "markdown",
   "metadata": {},
   "source": [
    "# Printing factorial :"
   ]
  },
  {
   "cell_type": "code",
   "execution_count": 1,
   "metadata": {},
   "outputs": [
    {
     "name": "stdout",
     "output_type": "stream",
     "text": [
      "The factorial of 5 is: 120\n"
     ]
    }
   ],
   "source": [
    "def factorial():\n",
    "    num = int(input(\"Enter a number: \"))\n",
    "    result = 1 \n",
    "    for i in range (1,num+1):\n",
    "        result*=i \n",
    "    print(\"The factorial of %s is: %s\" %(num,result) )\n",
    "\n",
    "factorial ()     \n",
    "\n"
   ]
  },
  {
   "cell_type": "markdown",
   "metadata": {},
   "source": [
    "# 5. Returning the number of digits:"
   ]
  },
  {
   "cell_type": "code",
   "execution_count": 11,
   "metadata": {},
   "outputs": [
    {
     "name": "stdout",
     "output_type": "stream",
     "text": [
      "The count of digits is 4: \n"
     ]
    }
   ],
   "source": [
    "def num_of_digits ():\n",
    "    integer = int(input(\"Enter a valid integer: \"))\n",
    "    count = 0\n",
    "    result = 0\n",
    "    for i in str(integer):\n",
    "        result = integer//10\n",
    "        count +=1\n",
    "    print (\"The count of digits is %s: \" %(count))\n",
    "\n",
    "\n",
    "num_of_digits()"
   ]
  },
  {
   "cell_type": "markdown",
   "metadata": {},
   "source": [
    "# 6. Reverse number: "
   ]
  },
  {
   "cell_type": "code",
   "execution_count": 2,
   "metadata": {},
   "outputs": [
    {
     "name": "stdout",
     "output_type": "stream",
     "text": [
      "Reversed number 44321\n"
     ]
    }
   ],
   "source": [
    "def reverse_num ():\n",
    "    num = int(input(\"Enter a valid integer: \"))\n",
    "    remainder = 0\n",
    "    result = 0 \n",
    "\n",
    "\n",
    "    for digit in str(num):\n",
    "        remainder = num%10 \n",
    "        result = result * 10 + remainder \n",
    "        num //= 10\n",
    "    print (\"Reversed number %s\" %(result))\n",
    "\n",
    "\n",
    "reverse_num()        "
   ]
  },
  {
   "cell_type": "markdown",
   "metadata": {},
   "source": [
    "# HCF :"
   ]
  },
  {
   "cell_type": "code",
   "execution_count": 32,
   "metadata": {},
   "outputs": [
    {
     "name": "stdout",
     "output_type": "stream",
     "text": [
      "HCF is : 12\n"
     ]
    }
   ],
   "source": [
    "def HCF():\n",
    "  \n",
    "   x = int(input(\"Enter 1st number: \"))\n",
    "   y = int(input(\"Enter 2nd number: \"))\n",
    "   if x > y:\n",
    "    x, y = y, x\n",
    "   \n",
    "   for i in range(1,x+1):\n",
    "    if x%i == 0 and y%i == 0:\n",
    "        hcf = i\n",
    "   print (\"HCF is : %s\" %(hcf))\n",
    "\n",
    "HCF()"
   ]
  },
  {
   "attachments": {},
   "cell_type": "markdown",
   "metadata": {},
   "source": [
    "# 8.LCM :"
   ]
  },
  {
   "cell_type": "code",
   "execution_count": 38,
   "metadata": {},
   "outputs": [
    {
     "ename": "ValueError",
     "evalue": "invalid literal for int() with base 10: ''",
     "output_type": "error",
     "traceback": [
      "\u001b[0;31m---------------------------------------------------------------------------\u001b[0m",
      "\u001b[0;31mValueError\u001b[0m                                Traceback (most recent call last)",
      "Cell \u001b[0;32mIn[38], line 14\u001b[0m\n\u001b[1;32m      6\u001b[0m     \u001b[39m# product = a * b\u001b[39;00m\n\u001b[1;32m      7\u001b[0m     \u001b[39m# while b != 0:\u001b[39;00m\n\u001b[1;32m      8\u001b[0m     \u001b[39m#     remainder = a % b\u001b[39;00m\n\u001b[1;32m      9\u001b[0m     \u001b[39m#     a = b\u001b[39;00m\n\u001b[1;32m     10\u001b[0m     \u001b[39m#     b = remainder\u001b[39;00m\n\u001b[1;32m     11\u001b[0m     \u001b[39m# result = product // a\u001b[39;00m\n\u001b[1;32m     12\u001b[0m    \u001b[39mprint\u001b[39m(\u001b[39m\"\u001b[39m\u001b[39mLCM of \u001b[39m\u001b[39m%s\u001b[39;00m\u001b[39m and \u001b[39m\u001b[39m%s\u001b[39;00m\u001b[39m is: \u001b[39m\u001b[39m%s\u001b[39;00m\u001b[39m\"\u001b[39m \u001b[39m%\u001b[39m(x,y,lcm))\n\u001b[0;32m---> 14\u001b[0m lcm()\n",
      "Cell \u001b[0;32mIn[38], line 5\u001b[0m, in \u001b[0;36mlcm\u001b[0;34m()\u001b[0m\n\u001b[1;32m      2\u001b[0m x \u001b[39m=\u001b[39m \u001b[39mint\u001b[39m(\u001b[39minput\u001b[39m(\u001b[39m\"\u001b[39m\u001b[39mEnter 1st number: \u001b[39m\u001b[39m\"\u001b[39m))\n\u001b[1;32m      3\u001b[0m y \u001b[39m=\u001b[39m \u001b[39mint\u001b[39m(\u001b[39minput\u001b[39m(\u001b[39m\"\u001b[39m\u001b[39mEnter 2nd number: \u001b[39m\u001b[39m\"\u001b[39m))\n\u001b[0;32m----> 5\u001b[0m lcm \u001b[39m=\u001b[39m (x\u001b[39m*\u001b[39my)\u001b[39m/\u001b[39m\u001b[39m/\u001b[39m HCF()\n\u001b[1;32m      6\u001b[0m  \u001b[39m# product = a * b\u001b[39;00m\n\u001b[1;32m      7\u001b[0m  \u001b[39m# while b != 0:\u001b[39;00m\n\u001b[1;32m      8\u001b[0m  \u001b[39m#     remainder = a % b\u001b[39;00m\n\u001b[1;32m      9\u001b[0m  \u001b[39m#     a = b\u001b[39;00m\n\u001b[1;32m     10\u001b[0m  \u001b[39m#     b = remainder\u001b[39;00m\n\u001b[1;32m     11\u001b[0m  \u001b[39m# result = product // a\u001b[39;00m\n\u001b[1;32m     12\u001b[0m \u001b[39mprint\u001b[39m(\u001b[39m\"\u001b[39m\u001b[39mLCM of \u001b[39m\u001b[39m%s\u001b[39;00m\u001b[39m and \u001b[39m\u001b[39m%s\u001b[39;00m\u001b[39m is: \u001b[39m\u001b[39m%s\u001b[39;00m\u001b[39m\"\u001b[39m \u001b[39m%\u001b[39m(x,y,lcm))\n",
      "Cell \u001b[0;32mIn[32], line 3\u001b[0m, in \u001b[0;36mHCF\u001b[0;34m()\u001b[0m\n\u001b[1;32m      1\u001b[0m \u001b[39mdef\u001b[39;00m \u001b[39mHCF\u001b[39m():\n\u001b[0;32m----> 3\u001b[0m    x \u001b[39m=\u001b[39m \u001b[39mint\u001b[39;49m(\u001b[39minput\u001b[39;49m(\u001b[39m\"\u001b[39;49m\u001b[39mEnter 1st number: \u001b[39;49m\u001b[39m\"\u001b[39;49m))\n\u001b[1;32m      4\u001b[0m    y \u001b[39m=\u001b[39m \u001b[39mint\u001b[39m(\u001b[39minput\u001b[39m(\u001b[39m\"\u001b[39m\u001b[39mEnter 2nd number: \u001b[39m\u001b[39m\"\u001b[39m))\n\u001b[1;32m      5\u001b[0m    \u001b[39mif\u001b[39;00m x \u001b[39m>\u001b[39m y:\n",
      "\u001b[0;31mValueError\u001b[0m: invalid literal for int() with base 10: ''"
     ]
    }
   ],
   "source": [
    "def lcm():\n",
    "   x = int(input(\"Enter 1st number: \"))\n",
    "   y = int(input(\"Enter 2nd number: \"))\n",
    "    \n",
    "   lcm = (x*y)// HCF()\n",
    "    # product = a * b\n",
    "    # while b != 0:\n",
    "    #     remainder = a % b\n",
    "    #     a = b\n",
    "    #     b = remainder\n",
    "    # result = product // a\n",
    "   print(\"LCM of %s and %s is: %s\" %(x,y,lcm))\n",
    "    \n",
    "lcm()"
   ]
  },
  {
   "attachments": {},
   "cell_type": "markdown",
   "metadata": {},
   "source": [
    "# 9. Prime number, palindrome, perfect number:"
   ]
  },
  {
   "cell_type": "code",
   "execution_count": 8,
   "metadata": {},
   "outputs": [
    {
     "name": "stdout",
     "output_type": "stream",
     "text": [
      "False\n",
      "True\n",
      "False\n"
     ]
    }
   ],
   "source": [
    "num = int(input(\"Enter a valide number: \"))\n",
    "\n",
    "def check_prime(num):\n",
    "\n",
    "    if num <= 1:\n",
    "        return False\n",
    "    for i in range(2, num):\n",
    "        if num % i == 0:\n",
    "            return False\n",
    "    return True\n",
    "\n",
    "print(check_prime(num))\n",
    "\n",
    "def check_palindrome(num):\n",
    "    remainder = 0\n",
    "    result = 0 \n",
    "    check_pN = result\n",
    "\n",
    "    for digit in str(num):\n",
    "        remainder = num%10 \n",
    "        result = result * 10 + remainder \n",
    "        num //= 10\n",
    "    if check_pN == num:\n",
    "        print(\"True\")\n",
    "    else:\n",
    "        print(\"False\")\n",
    "\n",
    "check_palindrome(num)\n",
    "\n",
    "def check_perNum(num):\n",
    "    sum = 0\n",
    "    \n",
    "    for j in range(1,num):\n",
    "        if num % j == 0:\n",
    "            sum +=j\n",
    "    if num == sum:\n",
    "        print(\"True\")\n",
    "    else:\n",
    "        print(\"False\")\n",
    "\n",
    "check_perNum(num)\n"
   ]
  },
  {
   "cell_type": "markdown",
   "metadata": {},
   "source": [
    "# Printing sorted list :"
   ]
  },
  {
   "cell_type": "code",
   "execution_count": 24,
   "metadata": {},
   "outputs": [
    {
     "name": "stdout",
     "output_type": "stream",
     "text": [
      "Unsorted list [2, 8, 9, 10, 456]\n",
      "Sorted list [2, 8, 9, 10, 456]\n"
     ]
    }
   ],
   "source": [
    "def sorting_lst():\n",
    "    lst = []\n",
    "    element = int(input(\"Enter the element value: \"))\n",
    "    for i in range (1, element+1):\n",
    "        value = int(input(\"Please enter the %s elemet: \" %(i)))\n",
    "        lst.append(value)\n",
    "    print(\"Unsorted list\", lst)\n",
    "    print(\"Sorted list\" , sorted(lst))\n",
    "\n",
    "\n",
    "sorting_lst()"
   ]
  },
  {
   "cell_type": "markdown",
   "metadata": {},
   "source": [
    "# 11. Max,Min,Average: "
   ]
  },
  {
   "cell_type": "code",
   "execution_count": 40,
   "metadata": {},
   "outputs": [
    {
     "name": "stdout",
     "output_type": "stream",
     "text": [
      "[1, 2, 3, 4, 5]\n",
      "Minimum value of list is 1\n",
      "Maximum value of list is 5 \n",
      "Average: 3.0\n"
     ]
    }
   ],
   "source": [
    "def min_max_avg():\n",
    "    list = []\n",
    "    element = int(input(\"Enter the element value: \"))\n",
    "    for i in range (1, element+1):\n",
    "        value = int(input(\"Please enter the %s elemet: \" %(i)))\n",
    "        list.append(value)\n",
    "    print(list)\n",
    "    print(\"Minimum value of list is %s\" %(min(list)))\n",
    "    print(\"Maximum value of list is %s \" %(max(list)))\n",
    "    \n",
    "    average = sum(list)/len(list)\n",
    "    print(\"Average:\", average)\n",
    "\n",
    "min_max_avg()\n"
   ]
  },
  {
   "attachments": {},
   "cell_type": "markdown",
   "metadata": {},
   "source": [
    "# 12. Numbers of string :"
   ]
  },
  {
   "cell_type": "code",
   "execution_count": 23,
   "metadata": {},
   "outputs": [
    {
     "name": "stdout",
     "output_type": "stream",
     "text": [
      "5\n"
     ]
    }
   ],
   "source": [
    "def num_of_words():\n",
    "    \n",
    "    text = input(\"Enter a text: \")\n",
    "    word = text.split()\n",
    "    return len(word)\n",
    "\n",
    "\n",
    "print(num_of_words())"
   ]
  },
  {
   "cell_type": "markdown",
   "metadata": {},
   "source": [
    "# 13.Uppercase:"
   ]
  },
  {
   "cell_type": "code",
   "execution_count": 28,
   "metadata": {},
   "outputs": [
    {
     "name": "stdout",
     "output_type": "stream",
     "text": [
      "HELLO WORLD\n"
     ]
    }
   ],
   "source": [
    "def upper_text():\n",
    "    text = input(\"Enter a text: \")\n",
    "    upper_case = text.upper() \n",
    "    print(upper_case)\n",
    "\n",
    "upper_text()"
   ]
  },
  {
   "cell_type": "markdown",
   "metadata": {},
   "source": [
    "# 14. Checking id :"
   ]
  },
  {
   "cell_type": "code",
   "execution_count": 30,
   "metadata": {},
   "outputs": [
    {
     "name": "stdout",
     "output_type": "stream",
     "text": [
      "This is a valid IUB ID\n"
     ]
    }
   ],
   "source": [
    "def checking_id():\n",
    "    id = input(\"Enter an id: \")\n",
    "    if id.isdigit():\n",
    "        lenght = len(id)\n",
    "        if lenght == 7:\n",
    "            (print(\"This is a valid IUB ID\"))\n",
    "        else:\n",
    "            print(\"ID should contain 7 digits!\")\n",
    "    else:\n",
    "        print(\"please enter valid ID\")\n",
    "\n",
    "checking_id()"
   ]
  },
  {
   "attachments": {},
   "cell_type": "markdown",
   "metadata": {},
   "source": [
    "## 15. Answer to the life the universe and everything :"
   ]
  },
  {
   "cell_type": "code",
   "execution_count": 31,
   "metadata": {},
   "outputs": [
    {
     "name": "stdout",
     "output_type": "stream",
     "text": [
      "The answer to the question of life, the universe and everything is 42 \n"
     ]
    }
   ],
   "source": [
    "def ans_to_everything():\n",
    "    print(\"The answer to the question of life, the universe and everything is 42 \")\n",
    "\n",
    "ans_to_everything()"
   ]
  }
 ],
 "metadata": {
  "kernelspec": {
   "display_name": "Python 3",
   "language": "python",
   "name": "python3"
  },
  "language_info": {
   "codemirror_mode": {
    "name": "ipython",
    "version": 3
   },
   "file_extension": ".py",
   "mimetype": "text/x-python",
   "name": "python",
   "nbconvert_exporter": "python",
   "pygments_lexer": "ipython3",
   "version": "3.10.9"
  },
  "orig_nbformat": 4,
  "vscode": {
   "interpreter": {
    "hash": "dbb44e1b368d95f13ac415d12ca1fa91e4d4022d3e348bc39e16a736da6a2bbf"
   }
  }
 },
 "nbformat": 4,
 "nbformat_minor": 2
}
