{
 "cells": [
  {
   "attachments": {},
   "cell_type": "markdown",
   "metadata": {},
   "source": [
    "# Implementation of Queue using Stack:"
   ]
  },
  {
   "cell_type": "code",
   "execution_count": 1,
   "metadata": {},
   "outputs": [],
   "source": [
    "class Stack (object):\n",
    "\n",
    "  def __init__(self):\n",
    "    self.items = []\n",
    "\n",
    "  def isEmpty(self):\n",
    "    return self.items == []\n",
    "  \n",
    "  def push(self,item):\n",
    "    return self.items.append(item)\n",
    "\n",
    "  def pop(self):\n",
    "    return self.items.pop()\n",
    "\n",
    "  def size(self):\n",
    "    return len(self.items)\n",
    "\n",
    "class queueStack(object):\n",
    "\n",
    "  def __init__(self):\n",
    "    self.en_stack = Stack()\n",
    "    self.de_stack = Stack()\n",
    "\n",
    "  def isEmpty(self):\n",
    "    return len(self.en_stack.isEmpty) and (self.de_stack.isEmpty)\n",
    "\n",
    "  def enqueue(self,item):\n",
    "    return self.en_stack.push(item)\n",
    "\n",
    "  def dequeue(self):\n",
    "        if self.de_stack.isEmpty():\n",
    "          while not self.en_stack.isEmpty():\n",
    "            self.de_stack.push(self.en_stack.pop())\n",
    "        return self.de_stack.pop()\n",
    "\n",
    "  def size(self):\n",
    "    return len(self.en_stack.items) + len(self.de_stack.items)\n",
    "\n",
    "  def printAllItems(self):\n",
    "    print(\"Items in en_stack: \", self.en_stack.items)\n",
    "    print(\"Items in de_stack: \", self.de_stack.items)"
   ]
  },
  {
   "cell_type": "code",
   "execution_count": 2,
   "metadata": {},
   "outputs": [
    {
     "name": "stdout",
     "output_type": "stream",
     "text": [
      "Items in en_stack:  []\n",
      "Items in de_stack:  [45, 30, 70]\n"
     ]
    }
   ],
   "source": [
    "q = queueStack()\n",
    "q.enqueue(50)\n",
    "q.enqueue(60)\n",
    "q.enqueue(70)\n",
    "q.enqueue(30)\n",
    "q.enqueue(45)\n",
    "q.dequeue()\n",
    "q.dequeue()\n",
    "q.printAllItems()"
   ]
  },
  {
   "cell_type": "code",
   "execution_count": 7,
   "metadata": {},
   "outputs": [
    {
     "data": {
      "text/plain": [
       "' N O L E M R E T A W '"
      ]
     },
     "execution_count": 7,
     "metadata": {},
     "output_type": "execute_result"
    }
   ],
   "source": [
    "class Stack:\n",
    "\n",
    "  def __init__(self):\n",
    "    self.items = []\n",
    "\n",
    "  def isEmpty(self):\n",
    "    return self.items == []\n",
    "\n",
    "  def push(self,item):\n",
    "    return self.items.append(item)\n",
    "\n",
    "  def pop(self):\n",
    "    return self.items.pop()\n",
    "\n",
    "  def size(self):\n",
    "    return len(self.items)\n",
    "\n",
    "def reverse_string(int_str):\n",
    "    stack = Stack()\n",
    "\n",
    "    for letters in int_str:\n",
    "      stack.push(letters)\n",
    "    \n",
    "    reversed_str = \" \"\n",
    "\n",
    "    while not stack.isEmpty():\n",
    "      reversed_str += stack.pop() + \" \"\n",
    "\n",
    "    return reversed_str\n",
    "\n",
    "reverse_string(\"WATERMELON\")"
   ]
  },
  {
   "cell_type": "code",
   "execution_count": null,
   "metadata": {},
   "outputs": [],
   "source": [
    "# Define a Stack class\n",
    "class Stack:\n",
    "    def __init__(self):\n",
    "        self.items = []\n",
    "\n",
    "    def is_empty(self):\n",
    "        return len(self.items) == 0\n",
    "\n",
    "    def push(self, item):\n",
    "        self.items.append(item)\n",
    "\n",
    "    def pop(self):\n",
    "        if self.is_empty():\n",
    "            return None\n",
    "        else:\n",
    "            return self.items.pop()\n",
    "\n",
    "# Take a string from the user\n",
    "input_str = input(\"Enter a string: \")\n",
    "\n",
    "# Create an empty stack\n",
    "stack = Stack()\n",
    "\n",
    "# Push each character of the input string onto the stack\n",
    "for char in input_str:\n",
    "    stack.push(char)\n",
    "\n",
    "# Pop each character from the stack and print its Unicode\n",
    "print(\"The input string in reverse order is:\")\n",
    "while not stack.is_empty():\n",
    "    char = stack.pop()\n",
    "    print(char, ord(char), end=\" \")"
   ]
  }
 ],
 "metadata": {
  "kernelspec": {
   "display_name": "Python 3",
   "language": "python",
   "name": "python3"
  },
  "language_info": {
   "codemirror_mode": {
    "name": "ipython",
    "version": 3
   },
   "file_extension": ".py",
   "mimetype": "text/x-python",
   "name": "python",
   "nbconvert_exporter": "python",
   "pygments_lexer": "ipython3",
   "version": "3.8.10"
  },
  "orig_nbformat": 4,
  "vscode": {
   "interpreter": {
    "hash": "916dbcbb3f70747c44a77c7bcd40155683ae19c65e1c03b4aa3499c5328201f1"
   }
  }
 },
 "nbformat": 4,
 "nbformat_minor": 2
}
